{
 "cells": [
  {
   "cell_type": "code",
   "execution_count": 1,
   "id": "07a03cf5",
   "metadata": {},
   "outputs": [],
   "source": [
    "import numpy as np\n",
    "\n",
    "\n",
    "\n",
    "def normalize(v):\n",
    "    norm=np.linalg.norm(v)\n",
    "    if norm==0:\n",
    "       return v\n",
    "    return v/norm\n",
    "\n",
    "def g(x):\n",
    "    return np.max(x, 0)   # Keep compatiable with numpy in 1.14.0 version\n",
    "\n",
    "\n",
    "def distance_agent_to_wall(point, wall):\n",
    "    p0 = np.array([wall[0],wall[1]])\n",
    "    p1 = np.array([wall[2],wall[3]])\n",
    "    d = p1-p0\n",
    "    ymp0 = point-p0\n",
    "    t = np.dot(d,ymp0)/np.dot(d,d)\n",
    "    if t <= 0.0:\n",
    "        dist = np.sqrt(np.dot(ymp0,ymp0))\n",
    "        cross = p0 + t*d\n",
    "    elif t >= 1.0:\n",
    "        ymp1 = point-p1\n",
    "        dist = np.sqrt(np.dot(ymp1,ymp1))\n",
    "        cross = p0 + t*d\n",
    "    else:\n",
    "        cross = p0 + t*d\n",
    "        dist = np.linalg.norm(cross-point)\n",
    "    npw = normalize(cross-point)\n",
    "    return dist,npw\n",
    "\n",
    "\n"
   ]
  }
 ],
 "metadata": {
  "kernelspec": {
   "display_name": "Python 3 (ipykernel)",
   "language": "python",
   "name": "python3"
  },
  "language_info": {
   "codemirror_mode": {
    "name": "ipython",
    "version": 3
   },
   "file_extension": ".py",
   "mimetype": "text/x-python",
   "name": "python",
   "nbconvert_exporter": "python",
   "pygments_lexer": "ipython3",
   "version": "3.11.5"
  }
 },
 "nbformat": 4,
 "nbformat_minor": 5
}
